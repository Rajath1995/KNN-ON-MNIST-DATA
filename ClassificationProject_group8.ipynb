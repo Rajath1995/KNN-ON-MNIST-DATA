{
 "cells": [
  {
   "cell_type": "code",
   "execution_count": 65,
   "metadata": {},
   "outputs": [],
   "source": [
    "import tensorflow as tf\n",
    "import pandas as pd\n",
    "import numpy as np\n",
    "import matplotlib.pyplot as plt\n",
    "from sklearn.neighbors import KNeighborsClassifier\n",
    "from sklearn.metrics import classification_report, confusion_matrix, accuracy_score,mean_absolute_error,mean_squared_error\n",
    "from sklearn.model_selection import LeaveOneOut\n",
    "from sklearn.model_selection import cross_val_score\n",
    "from timeit import default_timer as timer\n",
    "from sklearn.decomposition import PCA\n",
    "from scipy.ndimage import gaussian_filter\n",
    "from sklearn.preprocessing import MinMaxScaler\n",
    "from scipy.ndimage import interpolation as inter"
   ]
  },
  {
   "cell_type": "code",
   "execution_count": 62,
   "metadata": {},
   "outputs": [],
   "source": [
    "# Importing the data from tensorflow keras data sets.\n",
    "(x_train, y_train), (x_test, y_test) = tf.keras.datasets.mnist.load_data()\n",
    "\n",
    "# Reshaping each image as one array of 784 pixels or we can call as 1-D vectors for both train and test.\n",
    "x_train=np.reshape(x_train,(60000,784))\n",
    "x_test=np.reshape(x_test,(10000,784))"
   ]
  },
  {
   "cell_type": "markdown",
   "metadata": {},
   "source": [
    "### Implementing 1-Nearest Neighbor classifier.\n",
    "\n",
    "#### Steps involved:-\n",
    "\n",
    "1. Taking a sample from the dataset where each row is one feature vector for each image. The number of samples taken for training data is 1000 and for test dataset it is 500.\n",
    "\n",
    "\n",
    "2. Creating an object of KNeighborsClassifier and providing the parameter n_neighbours=1 i.e the number of K.\n",
    "\n",
    "\n",
    "3. Train and  Fit the classifier using the features and labels from the sampled training data and predict the labels for the test data.  \n",
    "\n",
    "\n",
    "4. Producing the confusion matrix ( This multi dimension matrix provides the performance of the classifer), and obtaining the accuracy score for model or classifier.\n",
    "\n",
    "\n",
    "5. presenting the testing error for each of the digit in a table format."
   ]
  },
  {
   "cell_type": "code",
   "execution_count": 8,
   "metadata": {},
   "outputs": [
    {
     "name": "stdout",
     "output_type": "stream",
     "text": [
      "The confusion Matrix is given by: \n",
      " [[52  0  0  0  0  0  1  1  0  0]\n",
      " [ 0 54  0  0  0  0  0  0  0  0]\n",
      " [ 0  2 35  1  1  0  0  1  0  1]\n",
      " [ 0  0  1 44  0  3  0  2  1  0]\n",
      " [ 0  1  0  0 36  0  0  3  0  7]\n",
      " [ 1  1  0  2  0 35  0  0  2  0]\n",
      " [ 0  1  0  0  1  0 51  0  0  0]\n",
      " [ 0  4  0  0  0  1  0 51  0  3]\n",
      " [ 1  1  0  2  2  4  0  1 34  0]\n",
      " [ 0  0  0  0  2  0  0  3  1 49]]\n",
      "\n",
      "Predicted Labels for Test Images:  [2 1 7 4 3 2 1 4 5 7 3 0 6 2 5 3 6 1 8 3 7 8 6 9 4 3 5 1 7 6 2 1 6 1 9 7 0\n",
      " 5 7 9 1 2 1 4 9 6 0 5 9 8 0 7 0 1 7 4 1 6 9 9 3 7 5 6 7 5 8 7 5 6 7 0 1 3\n",
      " 5 2 2 1 5 5 4 7 8 9 7 3 8 0 7 5 1 9 9 9 0 0 0 9 3 3 6 5 2 9 6 1 7 6 1 3 7\n",
      " 0 4 1 2 3 4 8 1 3 6 0 7 9 2 3 6 4 0 4 1 3 0 0 5 2 5 2 4 8 4 0 0 2 2 8 1 9\n",
      " 8 7 2 7 1 1 1 3 6 7 1 8 0 1 2 0 6 1 8 5 9 3 8 3 6 1 7 3 3 9 3 5 6 1 6 4 1\n",
      " 9 1 3 5 7 6 6 5 5 3 4 7 1 6 1 9 1 6 4 2 6 9 2 6 9 8 4 0 3 9 7 9 7 1 0 0 6\n",
      " 9 0 4 9 4 2 5 8 5 4 7 8 1 3 7 4 2 8 3 6 8 0 9 8 3 0 3 5 7 3 9 1 6 1 7 6 9\n",
      " 2 2 0 9 5 1 1 9 7 1 4 3 1 7 6 4 9 7 7 0 4 1 0 8 7 3 8 6 9 1 4 0 2 4 0 4 1\n",
      " 5 1 6 2 8 3 1 0 6 5 9 9 1 8 0 8 8 1 5 0 3 7 0 3 6 1 4 8 7 0 8 7 9 9 2 1 3\n",
      " 4 8 0 9 8 7 8 5 8 6 7 9 5 1 2 3 1 3 4 7 5 0 3 6 7 0 9 1 3 7 2 6 4 4 7 8 6\n",
      " 1 6 9 1 6 2 1 3 9 6 4 0 8 0 1 7 4 7 9 8 0 3 7 8 7 9 5 4 6 6 1 4 5 2 1 6 5\n",
      " 0 4 4 7 2 3 8 2 4 9 3 7 0 9 9 9 9 5 6 5 3 7 9 1 0 5 0 9 6 1 0 7 0 1 4 0 9\n",
      " 4 5 0 9 7 9 9 8 7 6 5 6 5 9 5 2 4 0 7 0 0 7 3 2 0 7 2 7 3 8 5 7 3 7 0 1 9\n",
      " 9 3 4 1 9 2 9 9 1 5 7 2 7 6 5 3 6 6 6]\n",
      "\n",
      "Accuracy of Classifier on Test Images:  0.882\n"
     ]
    },
    {
     "data": {
      "text/html": [
       "<div>\n",
       "<style scoped>\n",
       "    .dataframe tbody tr th:only-of-type {\n",
       "        vertical-align: middle;\n",
       "    }\n",
       "\n",
       "    .dataframe tbody tr th {\n",
       "        vertical-align: top;\n",
       "    }\n",
       "\n",
       "    .dataframe thead th {\n",
       "        text-align: right;\n",
       "    }\n",
       "</style>\n",
       "<table border=\"1\" class=\"dataframe\">\n",
       "  <thead>\n",
       "    <tr style=\"text-align: right;\">\n",
       "      <th></th>\n",
       "      <th>Error For Digits after 1-NEAREST NEIGHBOR CLASSIFIER</th>\n",
       "    </tr>\n",
       "  </thead>\n",
       "  <tbody>\n",
       "    <tr>\n",
       "      <th>Error in digit0</th>\n",
       "      <td>3.703704</td>\n",
       "    </tr>\n",
       "    <tr>\n",
       "      <th>Error in digit1</th>\n",
       "      <td>0.000000</td>\n",
       "    </tr>\n",
       "    <tr>\n",
       "      <th>Error in digit2</th>\n",
       "      <td>14.634146</td>\n",
       "    </tr>\n",
       "    <tr>\n",
       "      <th>Error in digit3</th>\n",
       "      <td>13.725490</td>\n",
       "    </tr>\n",
       "    <tr>\n",
       "      <th>Error in digit4</th>\n",
       "      <td>23.404255</td>\n",
       "    </tr>\n",
       "    <tr>\n",
       "      <th>Error in digit5</th>\n",
       "      <td>14.634146</td>\n",
       "    </tr>\n",
       "    <tr>\n",
       "      <th>Error in digit6</th>\n",
       "      <td>3.773585</td>\n",
       "    </tr>\n",
       "    <tr>\n",
       "      <th>Error in digit7</th>\n",
       "      <td>13.559322</td>\n",
       "    </tr>\n",
       "    <tr>\n",
       "      <th>Error in digit8</th>\n",
       "      <td>24.444444</td>\n",
       "    </tr>\n",
       "    <tr>\n",
       "      <th>Error in digit9</th>\n",
       "      <td>10.909091</td>\n",
       "    </tr>\n",
       "  </tbody>\n",
       "</table>\n",
       "</div>"
      ],
      "text/plain": [
       "                 Error For Digits after 1-NEAREST NEIGHBOR CLASSIFIER\n",
       "Error in digit0                                           3.703704   \n",
       "Error in digit1                                           0.000000   \n",
       "Error in digit2                                          14.634146   \n",
       "Error in digit3                                          13.725490   \n",
       "Error in digit4                                          23.404255   \n",
       "Error in digit5                                          14.634146   \n",
       "Error in digit6                                           3.773585   \n",
       "Error in digit7                                          13.559322   \n",
       "Error in digit8                                          24.444444   \n",
       "Error in digit9                                          10.909091   "
      ]
     },
     "execution_count": 8,
     "metadata": {},
     "output_type": "execute_result"
    }
   ],
   "source": [
    "# generate the random indices using numpy for both train and test, 1000 training indices and 500 testing indices are obtained. \n",
    "indices_1=np.random.choice(x_train.shape[0],1000,replace=False)\n",
    "indices_t1=np.random.choice(x_test.shape[0],500,replace=False)\n",
    "# Obtaining the rows from the obtained respective indices of training and test.\n",
    "x_1=x_train[indices_1]\n",
    "y_1=y_train[indices_1]\n",
    "x_t1=x_test[indices_t1]\n",
    "y_t1=y_test[indices_t1]\n",
    "# Creating the KNeighbour classifier and providing n_neighbor as 1 i.e the K=1.\n",
    "classifier = KNeighborsClassifier(n_neighbors = 1)\n",
    "y=classifier.fit(x_1, y_1)\n",
    "y_pred_1 = classifier.predict(x_t1)\n",
    "# The accuracy is found using unique digits and their respective count from test set and comparing that with confusion matrix \n",
    "unique, counts = np.unique(y_t1, return_counts=True)\n",
    "counts=counts.tolist()\n",
    "cm = confusion_matrix(y_t1,y_pred_1)\n",
    "a=cm.diagonal()\n",
    "acc = accuracy_score(y_t1,y_pred_1)\n",
    "print(\"The confusion Matrix is given by: \\n\",cm)\n",
    "print('\\nPredicted Labels for Test Images: ',y_pred_1)\n",
    "print('\\nAccuracy of Classifier on Test Images: ',acc)\n",
    "error={}\n",
    "unique_elements, counts_elements = np.unique(y_t1, return_counts=True)\n",
    "for i in range(0,len(a)):\n",
    "    e=[]\n",
    "    e.append((1-a[i]/counts[i])*100)\n",
    "    error[i]=e\n",
    "column=[]\n",
    "for i in range(0,10):\n",
    "    column.append('Error in digit'+str(i))    \n",
    "error=pd.DataFrame(error)\n",
    "error.columns=column\n",
    "error=error.T\n",
    "error.columns=['Error For Digits after 1-NEAREST NEIGHBOR CLASSIFIER']\n",
    "error"
   ]
  },
  {
   "cell_type": "code",
   "execution_count": 5,
   "metadata": {},
   "outputs": [
    {
     "name": "stdout",
     "output_type": "stream",
     "text": [
      "              precision    recall  f1-score   support\n",
      "\n",
      "           0       0.96      0.98      0.97        51\n",
      "           1       0.86      1.00      0.93        56\n",
      "           2       0.94      0.78      0.85        40\n",
      "           3       0.85      1.00      0.92        34\n",
      "           4       0.90      0.85      0.87        61\n",
      "           5       0.86      0.84      0.85        44\n",
      "           6       0.95      0.98      0.96        56\n",
      "           7       0.86      0.85      0.85        65\n",
      "           8       0.92      0.73      0.81        48\n",
      "           9       0.71      0.78      0.74        45\n",
      "\n",
      "    accuracy                           0.88       500\n",
      "   macro avg       0.88      0.88      0.88       500\n",
      "weighted avg       0.88      0.88      0.88       500\n",
      "\n"
     ]
    }
   ],
   "source": [
    "# Additional info the classfication report.\n",
    "print(classification_report(y_t1, y_pred_1))"
   ]
  },
  {
   "cell_type": "markdown",
   "metadata": {},
   "source": [
    "### Leave one out approach \n",
    "\n",
    "A cross validation method i.e the \"**The Leave one out approach**\" is used to find the best K-value (Number of Neighbors)  \n",
    "\n",
    "This method will perform the cross validation N times (the number of data points in training set). That means that N separate times, the classifier is trained on all the data except for one point and a prediction is made for that point.\n",
    "In this case, K ranges from 1 to 20 and the best K value is to be found. \n",
    "\n",
    "#### Steps involved:-\n",
    "\n",
    "1. Create an object of KNeighborsClassifier for values of n_neighbors ranging from 1 to 20.\n",
    "\n",
    "\n",
    "2. Split the training data in N(in this case 1000) train and test splits where each split will contain 999 training and 1 validation point in rotation.\n",
    "\n",
    "\n",
    "3. Fit the classifier and predict for every split and get the mean squared error for every K. Choose the K with least MSE and apply it to predict the test data outputs.\n"
   ]
  },
  {
   "cell_type": "code",
   "execution_count": 10,
   "metadata": {},
   "outputs": [
    {
     "name": "stdout",
     "output_type": "stream",
     "text": [
      "[2.02, 2.251, 2.311, 2.322, 2.561, 2.498, 2.499, 2.534, 2.736, 2.772, 2.939, 2.935, 2.971, 2.92, 3.069, 3.087, 3.344, 3.245, 3.477, 3.37]\n"
     ]
    }
   ],
   "source": [
    "error={}\n",
    "loo = LeaveOneOut()\n",
    "# Storing the mean sqared erros in the below array.\n",
    "mean_abs_errors_2=[]\n",
    "# Testing for k values from 1 to 20.\n",
    "for i in range(1,21):\n",
    "    # Creating the classifier for respective K value.\n",
    "    classifier = KNeighborsClassifier(n_neighbors = i)\n",
    "    # The below array stores the prediction of validated vector.\n",
    "    pred_2=[]\n",
    "    # Leave one-out validation.\n",
    "    for train_index, test_index in loo.split(x_1):\n",
    "        x_train_cv, x_test_cv = x_1[train_index], x_1[test_index]\n",
    "        y_train_cv, y_test_cv = y_1[train_index], y_1[test_index]\n",
    "        classifier.fit(x_train_cv, y_train_cv)\n",
    "        pred_2.append(classifier.predict(x_test_cv))\n",
    "    mean_abs_errors_2.append(mean_squared_error(y_1,pred_2))\n",
    "print('MSE obtained for K 1 to 20 in a list \\n',mean_abs_errors_2)"
   ]
  },
  {
   "cell_type": "markdown",
   "metadata": {},
   "source": [
    "#### Visualizing the mean squared error for all the K values. The line plot below shows K vs MSE obtained from previous cell."
   ]
  },
  {
   "cell_type": "code",
   "execution_count": 16,
   "metadata": {},
   "outputs": [
    {
     "data": {
      "image/png": "[encoded data removed]",
      "text/plain": [
       "<Figure size 720x360 with 1 Axes>"
      ]
     },
     "metadata": {
      "needs_background": "light"
     },
     "output_type": "display_data"
    }
   ],
   "source": [
    "k_values=[1,2,3,4,5,6,7,8,9,10,11,12,13,14,15,16,17,18,19,20]\n",
    "plt.figure(figsize=(10,5))\n",
    "plt.xlabel('Number_of_Neighbours(k)')\n",
    "plt.ylabel('Mean_sqaured_error')\n",
    "plt.title('K vs MSE')\n",
    "plt.xticks(k_values)\n",
    "plt.plot(k_values, mean_abs_errors_2)\n",
    "plt.show()"
   ]
  },
  {
   "cell_type": "markdown",
   "metadata": {},
   "source": [
    "### Apply the best K to predict.\n",
    "Steps involved:-\n",
    "1. Select random indices to obtain training and testing sample as done previously.\n",
    "2. Using the K value obtained in Leave one out train/fit the KNeighborsClassifier on the training sample.\n",
    "3. Predict the output labels of the testing sample using the trained classifier.\n",
    "4. Obtain the testing error with respect to every digit."
   ]
  },
  {
   "cell_type": "code",
   "execution_count": 68,
   "metadata": {},
   "outputs": [
    {
     "name": "stdout",
     "output_type": "stream",
     "text": [
      "The confusion Matrix is given by: \n",
      " [[52  0  1  0  0  0  0  0  0  0]\n",
      " [ 0 57  0  0  0  0  1  0  0  0]\n",
      " [ 2  3 49  0  0  0  0  0  2  0]\n",
      " [ 0  1  0 47  0  0  0  1  0  2]\n",
      " [ 0  1  0  0 32  1  0  0  0  1]\n",
      " [ 0  1  0  4  1 37  0  0  0  1]\n",
      " [ 0  1  0  0  1  1 40  0  0  0]\n",
      " [ 0  1  3  0  2  0  0 51  0  1]\n",
      " [ 0  1  1  5  1  5  0  1 32  4]\n",
      " [ 0  1  0  0  2  1  0  3  0 45]]\n",
      "\n",
      "Predicted Labels for Test Images:  [7 9 2 8 6 8 6 6 5 3 0 2 4 8 1 7 3 7 0 7 1 2 1 0 0 0 5 7 1 2 3 1 9 6 2 9 4\n",
      " 2 8 1 6 0 5 0 5 1 8 1 7 6 2 1 9 4 3 2 7 7 5 2 3 1 6 1 9 8 8 4 5 3 3 1 0 9\n",
      " 9 4 4 5 8 8 7 1 5 5 7 4 2 1 1 0 7 1 7 0 7 2 7 9 6 7 2 7 3 0 2 7 7 9 6 0 6\n",
      " 7 3 5 8 9 6 3 0 0 2 9 1 1 2 2 9 1 5 7 3 7 9 8 2 4 1 0 4 5 0 0 5 1 5 4 9 7\n",
      " 1 3 1 6 2 8 5 6 9 6 2 0 6 2 1 1 5 2 3 7 9 1 1 8 3 9 2 4 3 0 8 2 8 4 6 3 4\n",
      " 5 7 1 6 4 5 6 9 3 9 3 1 7 3 3 7 4 9 0 1 0 7 9 3 0 3 9 6 2 2 0 5 5 8 1 4 1\n",
      " 4 1 0 5 5 0 5 4 4 5 4 5 2 1 0 1 1 1 5 8 7 8 1 3 7 7 2 2 9 3 8 1 7 8 1 3 2\n",
      " 0 9 3 1 5 3 1 3 0 4 8 2 3 7 9 1 5 8 9 5 0 2 9 7 6 4 5 7 5 6 1 6 1 9 1 1 8\n",
      " 7 1 1 3 2 8 2 7 7 9 0 7 4 0 2 3 7 4 8 0 8 8 0 9 1 6 8 9 5 3 3 4 1 3 6 4 1\n",
      " 4 5 7 0 7 4 6 7 0 8 9 7 1 8 3 5 6 8 4 3 2 4 3 2 3 9 6 2 6 3 4 7 1 3 4 6 1\n",
      " 7 9 2 3 1 8 9 5 0 5 1 1 5 9 7 0 6 0 5 2 3 5 7 9 1 3 6 7 2 2 3 3 2 9 0 9 0\n",
      " 1 5 6 7 9 1 6 0 5 6 4 0 1 7 9 3 0 4 6 0 5 0 9 2 0 4 6 2 0 2 9 2 6 6 4 0 2\n",
      " 4 0 2 9 9 2 3 7 0 7 4 2 9 4 3 3 8 5 2 9 8 9 3 0 1 3 3 6 9 0 3 2 6 3 6 5 1\n",
      " 3 0 7 9 9 1 7 1 0 7 2 9 9 2 9 5 7 3 1]\n",
      "\n",
      "Accuracy of Classifier on Test Images:  0.884\n"
     ]
    },
    {
     "data": {
      "text/html": [
       "<div>\n",
       "<style scoped>\n",
       "    .dataframe tbody tr th:only-of-type {\n",
       "        vertical-align: middle;\n",
       "    }\n",
       "\n",
       "    .dataframe tbody tr th {\n",
       "        vertical-align: top;\n",
       "    }\n",
       "\n",
       "    .dataframe thead th {\n",
       "        text-align: right;\n",
       "    }\n",
       "</style>\n",
       "<table border=\"1\" class=\"dataframe\">\n",
       "  <thead>\n",
       "    <tr style=\"text-align: right;\">\n",
       "      <th></th>\n",
       "      <th>Error For Digits after1 NEAREST NEIGHBOR CLASSIFIER</th>\n",
       "    </tr>\n",
       "  </thead>\n",
       "  <tbody>\n",
       "    <tr>\n",
       "      <th>Error in digit0</th>\n",
       "      <td>1.886792</td>\n",
       "    </tr>\n",
       "    <tr>\n",
       "      <th>Error in digit1</th>\n",
       "      <td>1.724138</td>\n",
       "    </tr>\n",
       "    <tr>\n",
       "      <th>Error in digit2</th>\n",
       "      <td>12.500000</td>\n",
       "    </tr>\n",
       "    <tr>\n",
       "      <th>Error in digit3</th>\n",
       "      <td>7.843137</td>\n",
       "    </tr>\n",
       "    <tr>\n",
       "      <th>Error in digit4</th>\n",
       "      <td>8.571429</td>\n",
       "    </tr>\n",
       "    <tr>\n",
       "      <th>Error in digit5</th>\n",
       "      <td>15.909091</td>\n",
       "    </tr>\n",
       "    <tr>\n",
       "      <th>Error in digit6</th>\n",
       "      <td>6.976744</td>\n",
       "    </tr>\n",
       "    <tr>\n",
       "      <th>Error in digit7</th>\n",
       "      <td>12.068966</td>\n",
       "    </tr>\n",
       "    <tr>\n",
       "      <th>Error in digit8</th>\n",
       "      <td>36.000000</td>\n",
       "    </tr>\n",
       "    <tr>\n",
       "      <th>Error in digit9</th>\n",
       "      <td>13.461538</td>\n",
       "    </tr>\n",
       "  </tbody>\n",
       "</table>\n",
       "</div>"
      ],
      "text/plain": [
       "                 Error For Digits after1 NEAREST NEIGHBOR CLASSIFIER\n",
       "Error in digit0                                           1.886792  \n",
       "Error in digit1                                           1.724138  \n",
       "Error in digit2                                          12.500000  \n",
       "Error in digit3                                           7.843137  \n",
       "Error in digit4                                           8.571429  \n",
       "Error in digit5                                          15.909091  \n",
       "Error in digit6                                           6.976744  \n",
       "Error in digit7                                          12.068966  \n",
       "Error in digit8                                          36.000000  \n",
       "Error in digit9                                          13.461538  "
      ]
     },
     "execution_count": 68,
     "metadata": {},
     "output_type": "execute_result"
    }
   ],
   "source": [
    "# generate the random indices using numpy for both train and test, 1000 training indices and 500 testing indices are obtained.  \n",
    "indices_2=np.random.choice(x_train.shape[0],1000,replace=False)\n",
    "indices_t2=np.random.choice(x_test.shape[0],500,replace=False)\n",
    "x_2=x_train[indices_2]\n",
    "y_2=y_train[indices_2]\n",
    "x_t2=x_test[indices_t2]\n",
    "y_t2=y_test[indices_t2]\n",
    "# The classifer is created with n_neighbors for which mse was least.\n",
    "classifier = KNeighborsClassifier(n_neighbors = mean_abs_errors_2.index(min(mean_abs_errors_2))+1)\n",
    "y_cls_2=classifier.fit(x_2, y_2)\n",
    "y_pred_2 = classifier.predict(x_t2)\n",
    "# taking the unique values in test set and the count of numbers.\n",
    "unique_2, counts_2 = np.unique(y_t2, return_counts=True)\n",
    "counts_2=counts_2.tolist()\n",
    "cm_2 = confusion_matrix(y_t2,y_pred_2)\n",
    "a_2=cm_2.diagonal()\n",
    "# The accuracy is calculated with respect to test and predicted values.\n",
    "acc_2 = accuracy_score(y_t2,y_pred_2)\n",
    "print(\"The confusion Matrix is given by: \\n\",cm_2)\n",
    "print('\\nPredicted Labels for Test Images: ',y_pred_2)\n",
    "print('\\nAccuracy of Classifier on Test Images: ',acc_2)\n",
    "error_2={}\n",
    "unique_elements_2, counts_elements_2 = np.unique(y_t2, return_counts=True)\n",
    "# Utilizing the confusion matrix and finding the error values.\n",
    "for i in range(0,len(a_2)):\n",
    "    e=[]\n",
    "    e.append((1-a_2[i]/counts_2[i])*100)\n",
    "    error_2[i]=e\n",
    "column=[]\n",
    "for i in range(0,10):\n",
    "    column.append('Error in digit'+str(i))\n",
    "# Creating the Dataframe with erros for each digit calculated using the best K value\n",
    "error_2=pd.DataFrame(error_2)\n",
    "error_2.columns=column\n",
    "error_2=error_2.T\n",
    "error_2.columns=['Error For Digits after'+str(mean_abs_errors_2.index(min(mean_abs_errors_2))+1) +' NEAREST NEIGHBOR CLASSIFIER']\n",
    "error_2"
   ]
  },
  {
   "cell_type": "markdown",
   "metadata": {},
   "source": [
    "# Image Downsampler\n",
    "\n",
    "Image Downsampling is a process of reducing the dimensions of an image and there by improving the speed.\n",
    "\n",
    "### Steps involved :-\n",
    "\n",
    "1. With respect to the n for example 4, every 4th sample or feature in 784 dimension feature vector is selected.\n",
    "\n",
    "\n",
    "2. Then the Leave one out validation is applied, the first step in leave one out validation is creating a classifier and splitting the data.\n",
    "\n",
    "\n",
    "3. For K in range 1 to 20 the leave one out validation is performed and corresponding mean squared errors are obtained.\n",
    "\n",
    "\n",
    "4. **Further steps are in next cell**"
   ]
  },
  {
   "cell_type": "code",
   "execution_count": 18,
   "metadata": {},
   "outputs": [],
   "source": [
    "def image_downsize(n,x,y):\n",
    "    # The below command pics every nth element in the 784 dimension feature vector.\n",
    "    x=x[:,n-1::n]\n",
    "    # Leave one out classifier object is created.\n",
    "    loo = LeaveOneOut()\n",
    "    # Splitting the training data.\n",
    "    loo.get_n_splits(x)\n",
    "    # An array is created to store the mean squared errors.\n",
    "    mean_abs_errors=[]\n",
    "    # K is iterated from 1 to 20.\n",
    "    for i in range(1,21):\n",
    "        classifier = KNeighborsClassifier(n_neighbors = i)\n",
    "        # pred is a list to store a pred in leave one out validation.\n",
    "        pred=[]\n",
    "        for train_index, test_index in loo.split(x):\n",
    "            x_train, x_test = x[train_index], x[test_index]\n",
    "            y_train, y_test = y[train_index], y[test_index]\n",
    "            classifier.fit(x_train, y_train)\n",
    "            pred.append(classifier.predict(x_test))\n",
    "        mean_abs_errors.append(mean_squared_error(y,pred))\n",
    "    return mean_abs_errors"
   ]
  },
  {
   "cell_type": "markdown",
   "metadata": {},
   "source": [
    "#### Calling the image downsize function for n=2,4,7,14 and creating the dataframe with errors."
   ]
  },
  {
   "cell_type": "code",
   "execution_count": 19,
   "metadata": {
    "scrolled": true
   },
   "outputs": [],
   "source": [
    "l=[2,4,7,14]\n",
    "downsize_2={}\n",
    "for i in l:\n",
    "    downsize=[]\n",
    "    downsize_2[i]= image_downsize(i,x_2,y_2)\n",
    "downsize_2=pd.DataFrame(downsize_2)\n",
    "#downsize_2"
   ]
  },
  {
   "cell_type": "code",
   "execution_count": 21,
   "metadata": {},
   "outputs": [
    {
     "data": {
      "text/html": [
       "<div>\n",
       "<style scoped>\n",
       "    .dataframe tbody tr th:only-of-type {\n",
       "        vertical-align: middle;\n",
       "    }\n",
       "\n",
       "    .dataframe tbody tr th {\n",
       "        vertical-align: top;\n",
       "    }\n",
       "\n",
       "    .dataframe thead th {\n",
       "        text-align: right;\n",
       "    }\n",
       "</style>\n",
       "<table border=\"1\" class=\"dataframe\">\n",
       "  <thead>\n",
       "    <tr style=\"text-align: right;\">\n",
       "      <th></th>\n",
       "      <th>Every 2nd Pixel</th>\n",
       "      <th>Every 4th Pixel</th>\n",
       "      <th>Every 7th Pixel</th>\n",
       "      <th>Every 14th Pixel</th>\n",
       "    </tr>\n",
       "    <tr>\n",
       "      <th>K-Neighbours</th>\n",
       "      <th></th>\n",
       "      <th></th>\n",
       "      <th></th>\n",
       "      <th></th>\n",
       "    </tr>\n",
       "  </thead>\n",
       "  <tbody>\n",
       "    <tr>\n",
       "      <th>1</th>\n",
       "      <td>1.580</td>\n",
       "      <td>2.842</td>\n",
       "      <td>4.450</td>\n",
       "      <td>6.168</td>\n",
       "    </tr>\n",
       "    <tr>\n",
       "      <th>2</th>\n",
       "      <td>2.365</td>\n",
       "      <td>3.896</td>\n",
       "      <td>4.867</td>\n",
       "      <td>7.223</td>\n",
       "    </tr>\n",
       "    <tr>\n",
       "      <th>3</th>\n",
       "      <td>2.336</td>\n",
       "      <td>3.484</td>\n",
       "      <td>4.879</td>\n",
       "      <td>7.229</td>\n",
       "    </tr>\n",
       "    <tr>\n",
       "      <th>4</th>\n",
       "      <td>2.099</td>\n",
       "      <td>3.552</td>\n",
       "      <td>5.528</td>\n",
       "      <td>6.482</td>\n",
       "    </tr>\n",
       "    <tr>\n",
       "      <th>5</th>\n",
       "      <td>2.415</td>\n",
       "      <td>3.877</td>\n",
       "      <td>4.926</td>\n",
       "      <td>6.203</td>\n",
       "    </tr>\n",
       "    <tr>\n",
       "      <th>6</th>\n",
       "      <td>2.275</td>\n",
       "      <td>3.470</td>\n",
       "      <td>5.270</td>\n",
       "      <td>6.099</td>\n",
       "    </tr>\n",
       "    <tr>\n",
       "      <th>7</th>\n",
       "      <td>2.322</td>\n",
       "      <td>3.580</td>\n",
       "      <td>4.916</td>\n",
       "      <td>6.153</td>\n",
       "    </tr>\n",
       "    <tr>\n",
       "      <th>8</th>\n",
       "      <td>2.439</td>\n",
       "      <td>3.859</td>\n",
       "      <td>5.110</td>\n",
       "      <td>6.182</td>\n",
       "    </tr>\n",
       "    <tr>\n",
       "      <th>9</th>\n",
       "      <td>2.511</td>\n",
       "      <td>3.719</td>\n",
       "      <td>5.011</td>\n",
       "      <td>6.244</td>\n",
       "    </tr>\n",
       "    <tr>\n",
       "      <th>10</th>\n",
       "      <td>2.431</td>\n",
       "      <td>4.048</td>\n",
       "      <td>5.131</td>\n",
       "      <td>6.425</td>\n",
       "    </tr>\n",
       "    <tr>\n",
       "      <th>11</th>\n",
       "      <td>2.662</td>\n",
       "      <td>4.011</td>\n",
       "      <td>5.129</td>\n",
       "      <td>6.411</td>\n",
       "    </tr>\n",
       "    <tr>\n",
       "      <th>12</th>\n",
       "      <td>2.864</td>\n",
       "      <td>4.039</td>\n",
       "      <td>5.091</td>\n",
       "      <td>6.509</td>\n",
       "    </tr>\n",
       "    <tr>\n",
       "      <th>13</th>\n",
       "      <td>2.896</td>\n",
       "      <td>4.258</td>\n",
       "      <td>5.201</td>\n",
       "      <td>6.573</td>\n",
       "    </tr>\n",
       "    <tr>\n",
       "      <th>14</th>\n",
       "      <td>2.954</td>\n",
       "      <td>4.194</td>\n",
       "      <td>5.246</td>\n",
       "      <td>6.462</td>\n",
       "    </tr>\n",
       "    <tr>\n",
       "      <th>15</th>\n",
       "      <td>3.015</td>\n",
       "      <td>4.183</td>\n",
       "      <td>5.225</td>\n",
       "      <td>6.538</td>\n",
       "    </tr>\n",
       "    <tr>\n",
       "      <th>16</th>\n",
       "      <td>3.064</td>\n",
       "      <td>4.173</td>\n",
       "      <td>5.474</td>\n",
       "      <td>6.484</td>\n",
       "    </tr>\n",
       "    <tr>\n",
       "      <th>17</th>\n",
       "      <td>3.011</td>\n",
       "      <td>4.330</td>\n",
       "      <td>5.286</td>\n",
       "      <td>6.384</td>\n",
       "    </tr>\n",
       "    <tr>\n",
       "      <th>18</th>\n",
       "      <td>2.978</td>\n",
       "      <td>4.182</td>\n",
       "      <td>5.460</td>\n",
       "      <td>6.609</td>\n",
       "    </tr>\n",
       "    <tr>\n",
       "      <th>19</th>\n",
       "      <td>2.959</td>\n",
       "      <td>4.362</td>\n",
       "      <td>5.378</td>\n",
       "      <td>6.932</td>\n",
       "    </tr>\n",
       "    <tr>\n",
       "      <th>20</th>\n",
       "      <td>3.103</td>\n",
       "      <td>4.375</td>\n",
       "      <td>5.441</td>\n",
       "      <td>6.871</td>\n",
       "    </tr>\n",
       "  </tbody>\n",
       "</table>\n",
       "</div>"
      ],
      "text/plain": [
       "              Every 2nd Pixel  Every 4th Pixel  Every 7th Pixel  \\\n",
       "K-Neighbours                                                      \n",
       "1                       1.580            2.842            4.450   \n",
       "2                       2.365            3.896            4.867   \n",
       "3                       2.336            3.484            4.879   \n",
       "4                       2.099            3.552            5.528   \n",
       "5                       2.415            3.877            4.926   \n",
       "6                       2.275            3.470            5.270   \n",
       "7                       2.322            3.580            4.916   \n",
       "8                       2.439            3.859            5.110   \n",
       "9                       2.511            3.719            5.011   \n",
       "10                      2.431            4.048            5.131   \n",
       "11                      2.662            4.011            5.129   \n",
       "12                      2.864            4.039            5.091   \n",
       "13                      2.896            4.258            5.201   \n",
       "14                      2.954            4.194            5.246   \n",
       "15                      3.015            4.183            5.225   \n",
       "16                      3.064            4.173            5.474   \n",
       "17                      3.011            4.330            5.286   \n",
       "18                      2.978            4.182            5.460   \n",
       "19                      2.959            4.362            5.378   \n",
       "20                      3.103            4.375            5.441   \n",
       "\n",
       "              Every 14th Pixel  \n",
       "K-Neighbours                    \n",
       "1                        6.168  \n",
       "2                        7.223  \n",
       "3                        7.229  \n",
       "4                        6.482  \n",
       "5                        6.203  \n",
       "6                        6.099  \n",
       "7                        6.153  \n",
       "8                        6.182  \n",
       "9                        6.244  \n",
       "10                       6.425  \n",
       "11                       6.411  \n",
       "12                       6.509  \n",
       "13                       6.573  \n",
       "14                       6.462  \n",
       "15                       6.538  \n",
       "16                       6.484  \n",
       "17                       6.384  \n",
       "18                       6.609  \n",
       "19                       6.932  \n",
       "20                       6.871  "
      ]
     },
     "execution_count": 21,
     "metadata": {},
     "output_type": "execute_result"
    }
   ],
   "source": [
    "# Creating the DataFrame containing the mean squared error for every n value i.e n=2,4,7,14.\n",
    "neighbours=[1,2,3,4,5,6,7,8,9,10,11,12,13,14,15,16,17,18,19,20]\n",
    "downsize_2.index=neighbours\n",
    "col=['Every 2nd Pixel','Every 4th Pixel','Every 7th Pixel','Every 14th Pixel']\n",
    "downsize_2.index.name='K-Neighbours'\n",
    "downsize_2.columns=col\n",
    "downsize_2"
   ]
  },
  {
   "cell_type": "markdown",
   "metadata": {},
   "source": [
    "#### The Graph representing the Number of Neighbours (k) vs the Mean squared error for every value of n (2,4,7,14)"
   ]
  },
  {
   "cell_type": "code",
   "execution_count": 23,
   "metadata": {},
   "outputs": [
    {
     "data": {
      "image/png": "[encoded data removed]",
      "text/plain": [
       "<Figure size 864x1080 with 4 Axes>"
      ]
     },
     "metadata": {
      "needs_background": "light"
     },
     "output_type": "display_data"
    }
   ],
   "source": [
    "# Four subplots have been created i.e for each value of n (2,4,7,14).\n",
    "fig,ax = plt.subplots(4,1,figsize=(12,15))\n",
    "plt.subplots_adjust(hspace=1.5)\n",
    "for col,ax in zip(downsize_2.columns,ax):\n",
    "    label='Mean Squared error'\n",
    "    ax.set(xlabel='Number_Neighbours(K)',ylabel=label,title=col,xticks=neighbours)\n",
    "    ax.plot(downsize_2.index, downsize_2[col])\n",
    "plt.tight_layout()\n",
    "plt.show()"
   ]
  },
  {
   "cell_type": "markdown",
   "metadata": {},
   "source": [
    "### steps continued :-\n",
    "\n",
    "5. We pick the least value of K for each n value (2,4,7,14) and the corresponding Mean squared error.\n",
    "\n",
    "\n",
    "6. **Steps continued in next cell**"
   ]
  },
  {
   "cell_type": "code",
   "execution_count": 24,
   "metadata": {},
   "outputs": [
    {
     "name": "stdout",
     "output_type": "stream",
     "text": [
      "The K-neighbour\n",
      " Every 2nd Pixel     1\n",
      "Every 4th Pixel     1\n",
      "Every 7th Pixel     1\n",
      "Every 14th Pixel    6\n",
      "dtype: int64 \n",
      " The corresponding MSE\n",
      " Every 2nd Pixel     1.580\n",
      "Every 4th Pixel     2.842\n",
      "Every 7th Pixel     4.450\n",
      "Every 14th Pixel    6.099\n",
      "dtype: float64\n"
     ]
    }
   ],
   "source": [
    "# Analysing each column in downsize_2 dataframe and Picking the smallest mean squared error and corresponding k value.\n",
    "min_mse_values_3=downsize_2.min()\n",
    "min_corresponding_k=downsize_2.idxmin()\n",
    "print('The K-neighbour\\n',downsize_2.idxmin(),'\\n The corresponding MSE\\n',downsize_2.min())"
   ]
  },
  {
   "cell_type": "markdown",
   "metadata": {},
   "source": [
    "### Steps continued :- \n",
    "\n",
    "7. Based on the results above the best k value for respective n (2,4,7,14 pixel), the test data is randomly picked and downsampling is applied to test data.\n",
    "\n",
    "\n",
    "8. K- Neighbor algorithm is applied to test data for obtained k values and Means squared error is obtained based on the predicted values."
   ]
  },
  {
   "cell_type": "code",
   "execution_count": 25,
   "metadata": {},
   "outputs": [
    {
     "name": "stdout",
     "output_type": "stream",
     "text": [
      "[2.082, 3.306, 5.25, 7.01]\n",
      "[0.010348899999826244, 0.004505500000050233, 0.0028047000000697153, 0.001759799999945244]\n",
      "[0.28411780000033104, 0.13573270000006232, 0.078184500000134, 0.04145070000004125]\n"
     ]
    }
   ],
   "source": [
    "# Array to store the Means squared errors.\n",
    "mean_abs_errors_3=[]\n",
    "pred_3=[]\n",
    "train_time_3=[]\n",
    "test_time_3=[]\n",
    "\n",
    "x_3=x_train[indices_2]\n",
    "y_3=y_train[indices_2]\n",
    "x_t3=x_test[indices_t2]\n",
    "y_t3=y_test[indices_t2]\n",
    "\n",
    "# For each value of n with the corresponding k value for the rest data we will perform knn and find the means squared error.\n",
    "for c,n in zip(min_corresponding_k,[2,4,7,14]):\n",
    "    x_t_3=x_t3[:,n-1::n]\n",
    "    x_3_ =x_3[:,n-1::n]\n",
    "    classifier = KNeighborsClassifier(n_neighbors = c)\n",
    "    start =timer()\n",
    "    classifier.fit(x_3_, y_3)\n",
    "    train_time_3.append(timer()-start)\n",
    "    start=timer()\n",
    "    pred_3=classifier.predict(x_t_3)\n",
    "    test_time_3.append(timer()-start)\n",
    "    mean_abs_errors_3.append(mean_squared_error(y_t3,pred_3))\n",
    "print(mean_abs_errors_3)\n",
    "print(train_time_3)\n",
    "print(test_time_3)"
   ]
  },
  {
   "cell_type": "code",
   "execution_count": 26,
   "metadata": {
    "scrolled": false
   },
   "outputs": [
    {
     "data": {
      "text/html": [
       "<div>\n",
       "<style scoped>\n",
       "    .dataframe tbody tr th:only-of-type {\n",
       "        vertical-align: middle;\n",
       "    }\n",
       "\n",
       "    .dataframe tbody tr th {\n",
       "        vertical-align: top;\n",
       "    }\n",
       "\n",
       "    .dataframe thead th {\n",
       "        text-align: right;\n",
       "    }\n",
       "</style>\n",
       "<table border=\"1\" class=\"dataframe\">\n",
       "  <thead>\n",
       "    <tr style=\"text-align: right;\">\n",
       "      <th></th>\n",
       "      <th>Downsampled_Values</th>\n",
       "      <th>Mean_sqared_error</th>\n",
       "      <th>Training_time</th>\n",
       "      <th>Testing_time</th>\n",
       "    </tr>\n",
       "  </thead>\n",
       "  <tbody>\n",
       "    <tr>\n",
       "      <th>0</th>\n",
       "      <td>2</td>\n",
       "      <td>2.082</td>\n",
       "      <td>0.010349</td>\n",
       "      <td>0.284118</td>\n",
       "    </tr>\n",
       "    <tr>\n",
       "      <th>1</th>\n",
       "      <td>4</td>\n",
       "      <td>3.306</td>\n",
       "      <td>0.004506</td>\n",
       "      <td>0.135733</td>\n",
       "    </tr>\n",
       "    <tr>\n",
       "      <th>2</th>\n",
       "      <td>7</td>\n",
       "      <td>5.250</td>\n",
       "      <td>0.002805</td>\n",
       "      <td>0.078185</td>\n",
       "    </tr>\n",
       "    <tr>\n",
       "      <th>3</th>\n",
       "      <td>14</td>\n",
       "      <td>7.010</td>\n",
       "      <td>0.001760</td>\n",
       "      <td>0.041451</td>\n",
       "    </tr>\n",
       "  </tbody>\n",
       "</table>\n",
       "</div>"
      ],
      "text/plain": [
       "   Downsampled_Values  Mean_sqared_error  Training_time  Testing_time\n",
       "0                   2              2.082       0.010349      0.284118\n",
       "1                   4              3.306       0.004506      0.135733\n",
       "2                   7              5.250       0.002805      0.078185\n",
       "3                  14              7.010       0.001760      0.041451"
      ]
     },
     "execution_count": 26,
     "metadata": {},
     "output_type": "execute_result"
    }
   ],
   "source": [
    "# Below is the testing array obtained for corresponding Downsampled values i.e n=(2,4,7,14)\n",
    "dict = {'Downsampled_Values':[2,4,7,14] , 'Mean_sqared_error': mean_abs_errors_3, 'Training_time': train_time_3, \n",
    "        'Testing_time': test_time_3}\n",
    "test_results_downsample=pd.DataFrame(dict)\n",
    "test_results_downsample"
   ]
  },
  {
   "cell_type": "markdown",
   "metadata": {},
   "source": [
    "**Conclusion** :- As the number of pixel is reduced the Mean square error is increased. The query time for downsampled data has reduced as compared to original data and goes on reducing as we increase the downsampling ratio."
   ]
  },
  {
   "cell_type": "markdown",
   "metadata": {},
   "source": [
    "### Binning Downsampling.\n",
    "\n",
    "The binning downsampling uses windows or bins here nxn square matrices to downsize the pixels.\n",
    "To perform this the logic is to divide every row of the matrix into n patches.\n",
    "For example, if the size of the rows is 32 and given n is 4, the row is divided into 32/4 patches. \n",
    "further after performing rowwise patching now we take column wise patching.\n",
    "The whole process can be easily performed by stride_tricks from numpy. "
   ]
  },
  {
   "cell_type": "code",
   "execution_count": 29,
   "metadata": {},
   "outputs": [],
   "source": [
    "def mean_bin(a,bin_x,bin_y,y):\n",
    "    combined_array=[]\n",
    "    for k in a:\n",
    "        m,n = np.shape(k.reshape(28,28))\n",
    "        #using stride_trics of numpy to perform row and column wise patching with respect to the value of n\n",
    "        strides = k.itemsize*np.array([(m // bin_x) * n, (n // bin_y), n, 1])\n",
    "        strided_reshape = np.lib.stride_tricks.as_strided(k,shape=(bin_x,bin_y,m//bin_x,n//bin_y),strides=strides)\n",
    "        x_bin= np.array([np.mean(col) for row in strided_reshape for col in row]).reshape(bin_x,bin_y)\n",
    "        combined_array.append(x_bin)\n",
    "    combined_array=np.asarray(combined_array).reshape(a.shape[0],bin_x*bin_x)\n",
    "    # Incorporating Leave one out validation.\n",
    "    loo = LeaveOneOut()\n",
    "    mean_abs_errors_4=[]\n",
    "    # Iterating for k values from  1 to 20.\n",
    "    for i in range(1,21):\n",
    "        classifier_4 = KNeighborsClassifier(n_neighbors = i)\n",
    "        pred_4=[]\n",
    "        # The leave one out approach.\n",
    "        for train_index, test_index in loo.split(combined_array):\n",
    "            x_train, x_test = combined_array[train_index], combined_array[test_index]\n",
    "            y_train, y_test = y[train_index], y[test_index]\n",
    "            classifier_4.fit(x_train, y_train)\n",
    "            pred_4.append(classifier_4.predict(x_test))\n",
    "        #Calculating the mean sqaured errors.\n",
    "        mean_abs_errors_4.append(mean_squared_error(y,pred_4))\n",
    "    return mean_abs_errors_4"
   ]
  },
  {
   "cell_type": "code",
   "execution_count": 30,
   "metadata": {},
   "outputs": [],
   "source": [
    "# generate the random indices using numpy for both train and test, 1000 training indices and 500 testing indices are obtained\n",
    "indices_4=np.random.choice(x_train.shape[0],1000,replace=False)\n",
    "indices_t4=np.random.choice(x_test.shape[0],500,replace=False)\n",
    "# Picking the xtrain, xtest, ytrain and ytest with respect to the random indices obtained.\n",
    "x_4=x_train[indices_4]\n",
    "y_4=y_train[indices_4]\n",
    "x_t4=x_test[indices_t4]\n",
    "y_t4=y_test[indices_t4]\n",
    "# Iterating for n=2,4,7,14\n",
    "l=[2,4,7,14]\n",
    "# Dictionary to store the mean squared error for each value of n 2,4,7,14\n",
    "downsize_4={}\n",
    "for i in l:\n",
    "    downsize_4[i]= mean_bin(x_4,i,i,y_4)\n",
    "downsize_4=pd.DataFrame(downsize_4)"
   ]
  },
  {
   "cell_type": "code",
   "execution_count": 99,
   "metadata": {},
   "outputs": [
    {
     "data": {
      "text/html": [
       "<div>\n",
       "<style scoped>\n",
       "    .dataframe tbody tr th:only-of-type {\n",
       "        vertical-align: middle;\n",
       "    }\n",
       "\n",
       "    .dataframe tbody tr th {\n",
       "        vertical-align: top;\n",
       "    }\n",
       "\n",
       "    .dataframe thead th {\n",
       "        text-align: right;\n",
       "    }\n",
       "</style>\n",
       "<table border=\"1\" class=\"dataframe\">\n",
       "  <thead>\n",
       "    <tr style=\"text-align: right;\">\n",
       "      <th></th>\n",
       "      <th>Every 14x14 window</th>\n",
       "      <th>Every 7x7 window</th>\n",
       "      <th>Every 4x4 window</th>\n",
       "      <th>Every 2x2 window</th>\n",
       "    </tr>\n",
       "    <tr>\n",
       "      <th>K-Neighbours</th>\n",
       "      <th></th>\n",
       "      <th></th>\n",
       "      <th></th>\n",
       "      <th></th>\n",
       "    </tr>\n",
       "  </thead>\n",
       "  <tbody>\n",
       "    <tr>\n",
       "      <th>1</th>\n",
       "      <td>13.650</td>\n",
       "      <td>7.088</td>\n",
       "      <td>2.373</td>\n",
       "      <td>1.860</td>\n",
       "    </tr>\n",
       "    <tr>\n",
       "      <th>2</th>\n",
       "      <td>13.677</td>\n",
       "      <td>6.721</td>\n",
       "      <td>2.501</td>\n",
       "      <td>2.303</td>\n",
       "    </tr>\n",
       "    <tr>\n",
       "      <th>3</th>\n",
       "      <td>14.584</td>\n",
       "      <td>6.868</td>\n",
       "      <td>2.451</td>\n",
       "      <td>1.982</td>\n",
       "    </tr>\n",
       "    <tr>\n",
       "      <th>4</th>\n",
       "      <td>14.349</td>\n",
       "      <td>6.358</td>\n",
       "      <td>2.398</td>\n",
       "      <td>2.154</td>\n",
       "    </tr>\n",
       "    <tr>\n",
       "      <th>5</th>\n",
       "      <td>14.143</td>\n",
       "      <td>6.807</td>\n",
       "      <td>2.524</td>\n",
       "      <td>2.328</td>\n",
       "    </tr>\n",
       "    <tr>\n",
       "      <th>6</th>\n",
       "      <td>13.473</td>\n",
       "      <td>6.519</td>\n",
       "      <td>2.616</td>\n",
       "      <td>2.351</td>\n",
       "    </tr>\n",
       "    <tr>\n",
       "      <th>7</th>\n",
       "      <td>13.346</td>\n",
       "      <td>6.640</td>\n",
       "      <td>2.762</td>\n",
       "      <td>2.474</td>\n",
       "    </tr>\n",
       "    <tr>\n",
       "      <th>8</th>\n",
       "      <td>13.755</td>\n",
       "      <td>6.706</td>\n",
       "      <td>2.603</td>\n",
       "      <td>2.328</td>\n",
       "    </tr>\n",
       "    <tr>\n",
       "      <th>9</th>\n",
       "      <td>13.790</td>\n",
       "      <td>6.548</td>\n",
       "      <td>2.778</td>\n",
       "      <td>2.484</td>\n",
       "    </tr>\n",
       "    <tr>\n",
       "      <th>10</th>\n",
       "      <td>13.401</td>\n",
       "      <td>6.190</td>\n",
       "      <td>2.507</td>\n",
       "      <td>2.653</td>\n",
       "    </tr>\n",
       "    <tr>\n",
       "      <th>11</th>\n",
       "      <td>13.770</td>\n",
       "      <td>6.655</td>\n",
       "      <td>2.832</td>\n",
       "      <td>2.771</td>\n",
       "    </tr>\n",
       "    <tr>\n",
       "      <th>12</th>\n",
       "      <td>13.511</td>\n",
       "      <td>6.937</td>\n",
       "      <td>2.895</td>\n",
       "      <td>2.739</td>\n",
       "    </tr>\n",
       "    <tr>\n",
       "      <th>13</th>\n",
       "      <td>13.747</td>\n",
       "      <td>6.589</td>\n",
       "      <td>3.026</td>\n",
       "      <td>2.882</td>\n",
       "    </tr>\n",
       "    <tr>\n",
       "      <th>14</th>\n",
       "      <td>13.433</td>\n",
       "      <td>6.822</td>\n",
       "      <td>3.035</td>\n",
       "      <td>2.994</td>\n",
       "    </tr>\n",
       "    <tr>\n",
       "      <th>15</th>\n",
       "      <td>13.371</td>\n",
       "      <td>6.771</td>\n",
       "      <td>3.276</td>\n",
       "      <td>3.004</td>\n",
       "    </tr>\n",
       "    <tr>\n",
       "      <th>16</th>\n",
       "      <td>13.451</td>\n",
       "      <td>6.815</td>\n",
       "      <td>3.416</td>\n",
       "      <td>2.911</td>\n",
       "    </tr>\n",
       "    <tr>\n",
       "      <th>17</th>\n",
       "      <td>13.725</td>\n",
       "      <td>7.028</td>\n",
       "      <td>3.452</td>\n",
       "      <td>3.111</td>\n",
       "    </tr>\n",
       "    <tr>\n",
       "      <th>18</th>\n",
       "      <td>13.568</td>\n",
       "      <td>6.993</td>\n",
       "      <td>3.558</td>\n",
       "      <td>3.166</td>\n",
       "    </tr>\n",
       "    <tr>\n",
       "      <th>19</th>\n",
       "      <td>13.346</td>\n",
       "      <td>7.168</td>\n",
       "      <td>3.458</td>\n",
       "      <td>3.376</td>\n",
       "    </tr>\n",
       "    <tr>\n",
       "      <th>20</th>\n",
       "      <td>13.339</td>\n",
       "      <td>7.136</td>\n",
       "      <td>3.520</td>\n",
       "      <td>3.453</td>\n",
       "    </tr>\n",
       "  </tbody>\n",
       "</table>\n",
       "</div>"
      ],
      "text/plain": [
       "              Every 14x14 window  Every 7x7 window  Every 4x4 window  \\\n",
       "K-Neighbours                                                           \n",
       "1                         13.650             7.088             2.373   \n",
       "2                         13.677             6.721             2.501   \n",
       "3                         14.584             6.868             2.451   \n",
       "4                         14.349             6.358             2.398   \n",
       "5                         14.143             6.807             2.524   \n",
       "6                         13.473             6.519             2.616   \n",
       "7                         13.346             6.640             2.762   \n",
       "8                         13.755             6.706             2.603   \n",
       "9                         13.790             6.548             2.778   \n",
       "10                        13.401             6.190             2.507   \n",
       "11                        13.770             6.655             2.832   \n",
       "12                        13.511             6.937             2.895   \n",
       "13                        13.747             6.589             3.026   \n",
       "14                        13.433             6.822             3.035   \n",
       "15                        13.371             6.771             3.276   \n",
       "16                        13.451             6.815             3.416   \n",
       "17                        13.725             7.028             3.452   \n",
       "18                        13.568             6.993             3.558   \n",
       "19                        13.346             7.168             3.458   \n",
       "20                        13.339             7.136             3.520   \n",
       "\n",
       "              Every 2x2 window  \n",
       "K-Neighbours                    \n",
       "1                        1.860  \n",
       "2                        2.303  \n",
       "3                        1.982  \n",
       "4                        2.154  \n",
       "5                        2.328  \n",
       "6                        2.351  \n",
       "7                        2.474  \n",
       "8                        2.328  \n",
       "9                        2.484  \n",
       "10                       2.653  \n",
       "11                       2.771  \n",
       "12                       2.739  \n",
       "13                       2.882  \n",
       "14                       2.994  \n",
       "15                       3.004  \n",
       "16                       2.911  \n",
       "17                       3.111  \n",
       "18                       3.166  \n",
       "19                       3.376  \n",
       "20                       3.453  "
      ]
     },
     "execution_count": 99,
     "metadata": {},
     "output_type": "execute_result"
    }
   ],
   "source": [
    "# Obtaining a dataframe with Kvalue and for each window created i.e n=2,4,7,14.\n",
    "neighbours=[1,2,3,4,5,6,7,8,9,10,11,12,13,14,15,16,17,18,19,20]\n",
    "downsize_4.index=neighbours\n",
    "col=['Every 14x14 window','Every 7x7 window','Every 4x4 window','Every 2x2 window']\n",
    "downsize_4.index.name='K-Neighbours'\n",
    "downsize_4.columns=col\n",
    "downsize_4"
   ]
  },
  {
   "cell_type": "markdown",
   "metadata": {},
   "source": [
    "**Conclusion** :- Testing errors are least for 2x2 window downsampling i.e for matrix of shape 14X14, as the window size increases the number of pixel decreases the mean squared error increases."
   ]
  },
  {
   "cell_type": "markdown",
   "metadata": {},
   "source": [
    "#### Visualizing the K vs the mean absolute error for every window or n i.e for values 2x2,4x4,7x7,14x14 window"
   ]
  },
  {
   "cell_type": "code",
   "execution_count": 32,
   "metadata": {},
   "outputs": [
    {
     "data": {
      "image/png": "[encoded data removed]",
      "text/plain": [
       "<Figure size 720x1080 with 4 Axes>"
      ]
     },
     "metadata": {
      "needs_background": "light"
     },
     "output_type": "display_data"
    }
   ],
   "source": [
    "fig,ax = plt.subplots(4,1,figsize=(10,15))\n",
    "plt.subplots_adjust(hspace=1.5)\n",
    "for col,ax in zip(downsize_4.columns,ax):\n",
    "    label='Mean absolute error'\n",
    "    ax.set(xlabel='Number_of_Neighbours(k)',ylabel=label,title=col,xticks=neighbours)\n",
    "    ax.plot(downsize_4.index, downsize_4[col])\n",
    "plt.tight_layout()\n",
    "plt.show()"
   ]
  },
  {
   "cell_type": "code",
   "execution_count": 33,
   "metadata": {},
   "outputs": [
    {
     "name": "stdout",
     "output_type": "stream",
     "text": [
      "The K-neighbour\n",
      " Every 2*2 window      20\n",
      "Every 4*4 window      10\n",
      "Every 7*7 window       1\n",
      "Every 14*14 window     1\n",
      "dtype: int64 \n",
      " The corresponding MSE\n",
      " Every 2*2 window      13.339\n",
      "Every 4*4 window       6.190\n",
      "Every 7*7 window       2.373\n",
      "Every 14*14 window     1.860\n",
      "dtype: float64\n"
     ]
    }
   ],
   "source": [
    "# Analysing each column in window dataframe and Picking the smallest mean squared error and corresponding k value.\n",
    "min_mse_values_4=downsize_4.min()\n",
    "min_corresponding_k_4=downsize_4.idxmin()\n",
    "print('The K-neighbour\\n',downsize_4.idxmin(),'\\n The corresponding MSE\\n',downsize_4.min())"
   ]
  },
  {
   "cell_type": "code",
   "execution_count": 34,
   "metadata": {},
   "outputs": [],
   "source": [
    "def mini_mean_bin(a,bin_x,bin_y):\n",
    "    # An array to store the mean squared error for test data set.\n",
    "    combined_array=[]\n",
    "    for k in a:\n",
    "        m,n = np.shape(k.reshape(28,28))\n",
    "        # Applying stride_trics of numpy to obtain 1x1 patches.\n",
    "        strides = k.itemsize*np.array([(m // bin_x) * n, (n // bin_y), n, 1])\n",
    "        strided_reshape = np.lib.stride_tricks.as_strided(k,shape=(bin_x,bin_y,m//bin_x,n//bin_y),strides=strides)\n",
    "        x_bin= np.array([np.mean(col) for row in strided_reshape for col in row]).reshape(bin_x,bin_y)\n",
    "        combined_array.append(x_bin)\n",
    "    combined_array=np.asarray(combined_array).reshape(a.shape[0],bin_x*bin_x)\n",
    "    return combined_array"
   ]
  },
  {
   "cell_type": "code",
   "execution_count": 35,
   "metadata": {},
   "outputs": [
    {
     "name": "stdout",
     "output_type": "stream",
     "text": [
      "[13.026, 6.31, 2.164, 2.29]\n",
      "[0.0005313999999998487, 0.0014420000002246525, 0.0013474000002133835, 0.0048708999997870706]\n",
      "[0.01173030000018116, 0.017636600000059843, 0.036027999999987514, 0.16904090000025462]\n"
     ]
    }
   ],
   "source": [
    "# Applying the best k value obtained after fitting the train data.\n",
    "mean_abs_errors_4=[]\n",
    "pred_4=[]\n",
    "train_time_4=[]\n",
    "test_time_4=[]\n",
    "\n",
    "\n",
    "for c,n in zip(min_corresponding_k_4,[2,4,7,14]):\n",
    "    x_t_4=mini_mean_bin(x_t4,n,n)\n",
    "    x_4_ =mini_mean_bin(x_4,n,n)\n",
    "    classifier = KNeighborsClassifier(n_neighbors = c)\n",
    "    start =timer()\n",
    "    classifier.fit(x_4_, y_4)\n",
    "    train_time_4.append(timer()-start)\n",
    "    start=timer()\n",
    "    pred_4=classifier.predict(x_t_4)\n",
    "    test_time_4.append(timer()-start)\n",
    "    mean_abs_errors_4.append(mean_squared_error(y_t4,pred_4))\n",
    "print(mean_abs_errors_4)\n",
    "print(train_time_4)\n",
    "print(test_time_4)"
   ]
  },
  {
   "cell_type": "code",
   "execution_count": 36,
   "metadata": {
    "scrolled": true
   },
   "outputs": [
    {
     "data": {
      "text/html": [
       "<div>\n",
       "<style scoped>\n",
       "    .dataframe tbody tr th:only-of-type {\n",
       "        vertical-align: middle;\n",
       "    }\n",
       "\n",
       "    .dataframe tbody tr th {\n",
       "        vertical-align: top;\n",
       "    }\n",
       "\n",
       "    .dataframe thead th {\n",
       "        text-align: right;\n",
       "    }\n",
       "</style>\n",
       "<table border=\"1\" class=\"dataframe\">\n",
       "  <thead>\n",
       "    <tr style=\"text-align: right;\">\n",
       "      <th></th>\n",
       "      <th>Downsampled_Values</th>\n",
       "      <th>Mean_squared_error</th>\n",
       "      <th>Training_time</th>\n",
       "      <th>Testing_time</th>\n",
       "    </tr>\n",
       "  </thead>\n",
       "  <tbody>\n",
       "    <tr>\n",
       "      <th>0</th>\n",
       "      <td>2x2</td>\n",
       "      <td>13.026</td>\n",
       "      <td>0.000531</td>\n",
       "      <td>0.011730</td>\n",
       "    </tr>\n",
       "    <tr>\n",
       "      <th>1</th>\n",
       "      <td>4x4</td>\n",
       "      <td>6.310</td>\n",
       "      <td>0.001442</td>\n",
       "      <td>0.017637</td>\n",
       "    </tr>\n",
       "    <tr>\n",
       "      <th>2</th>\n",
       "      <td>7x7</td>\n",
       "      <td>2.164</td>\n",
       "      <td>0.001347</td>\n",
       "      <td>0.036028</td>\n",
       "    </tr>\n",
       "    <tr>\n",
       "      <th>3</th>\n",
       "      <td>14x14</td>\n",
       "      <td>2.290</td>\n",
       "      <td>0.004871</td>\n",
       "      <td>0.169041</td>\n",
       "    </tr>\n",
       "  </tbody>\n",
       "</table>\n",
       "</div>"
      ],
      "text/plain": [
       "  Downsampled_Values  Mean_squared_error  Training_time  Testing_time\n",
       "0                2x2              13.026       0.000531      0.011730\n",
       "1                4x4               6.310       0.001442      0.017637\n",
       "2                7x7               2.164       0.001347      0.036028\n",
       "3              14x14               2.290       0.004871      0.169041"
      ]
     },
     "execution_count": 36,
     "metadata": {},
     "output_type": "execute_result"
    }
   ],
   "source": [
    "dict_4 = {'Downsampled_Values':['2x2','4x4','7x7','14x14'] , 'Mean_squared_error': mean_abs_errors_4, 'Training_time': train_time_4, \n",
    "        'Testing_time': test_time_4}\n",
    "test_results_window=pd.DataFrame(dict_4)\n",
    "test_results_window"
   ]
  },
  {
   "cell_type": "markdown",
   "metadata": {},
   "source": [
    "**Conclusion** :- After binning it was found that mean squared error increases as the downsampling increases. The Query time decreases by a huge amount as compared to original data and also when compared to the downsampler applied previously."
   ]
  },
  {
   "cell_type": "markdown",
   "metadata": {},
   "source": [
    "### Repeating the same procedure as above for n=1 i.e creating 1x1 pixel and performing the KNN with leave one out validation."
   ]
  },
  {
   "cell_type": "code",
   "execution_count": 37,
   "metadata": {},
   "outputs": [],
   "source": [
    "x_5=x_train[indices_4]\n",
    "y_5=y_train[indices_4]\n",
    "x_t5=x_test[indices_t4]\n",
    "y_t5=y_test[indices_t4]\n",
    "l=[1]\n",
    "downsize_5={}\n",
    "for i in l:\n",
    "    downsize_5[i]= mean_bin(x_5,i,i,y_5)\n",
    "downsize_5=pd.DataFrame(downsize_5)"
   ]
  },
  {
   "cell_type": "code",
   "execution_count": 39,
   "metadata": {},
   "outputs": [
    {
     "data": {
      "text/html": [
       "<div>\n",
       "<style scoped>\n",
       "    .dataframe tbody tr th:only-of-type {\n",
       "        vertical-align: middle;\n",
       "    }\n",
       "\n",
       "    .dataframe tbody tr th {\n",
       "        vertical-align: top;\n",
       "    }\n",
       "\n",
       "    .dataframe thead th {\n",
       "        text-align: right;\n",
       "    }\n",
       "</style>\n",
       "<table border=\"1\" class=\"dataframe\">\n",
       "  <thead>\n",
       "    <tr style=\"text-align: right;\">\n",
       "      <th></th>\n",
       "      <th>Every 1 window i.e is 28x28 grids</th>\n",
       "    </tr>\n",
       "    <tr>\n",
       "      <th>K-Neighbours</th>\n",
       "      <th></th>\n",
       "    </tr>\n",
       "  </thead>\n",
       "  <tbody>\n",
       "    <tr>\n",
       "      <th>1</th>\n",
       "      <td>17.253</td>\n",
       "    </tr>\n",
       "    <tr>\n",
       "      <th>2</th>\n",
       "      <td>16.443</td>\n",
       "    </tr>\n",
       "    <tr>\n",
       "      <th>3</th>\n",
       "      <td>16.760</td>\n",
       "    </tr>\n",
       "    <tr>\n",
       "      <th>4</th>\n",
       "      <td>17.616</td>\n",
       "    </tr>\n",
       "    <tr>\n",
       "      <th>5</th>\n",
       "      <td>18.094</td>\n",
       "    </tr>\n",
       "    <tr>\n",
       "      <th>6</th>\n",
       "      <td>17.074</td>\n",
       "    </tr>\n",
       "    <tr>\n",
       "      <th>7</th>\n",
       "      <td>16.694</td>\n",
       "    </tr>\n",
       "    <tr>\n",
       "      <th>8</th>\n",
       "      <td>17.132</td>\n",
       "    </tr>\n",
       "    <tr>\n",
       "      <th>9</th>\n",
       "      <td>17.786</td>\n",
       "    </tr>\n",
       "    <tr>\n",
       "      <th>10</th>\n",
       "      <td>18.651</td>\n",
       "    </tr>\n",
       "    <tr>\n",
       "      <th>11</th>\n",
       "      <td>18.398</td>\n",
       "    </tr>\n",
       "    <tr>\n",
       "      <th>12</th>\n",
       "      <td>18.692</td>\n",
       "    </tr>\n",
       "    <tr>\n",
       "      <th>13</th>\n",
       "      <td>18.599</td>\n",
       "    </tr>\n",
       "    <tr>\n",
       "      <th>14</th>\n",
       "      <td>18.729</td>\n",
       "    </tr>\n",
       "    <tr>\n",
       "      <th>15</th>\n",
       "      <td>18.569</td>\n",
       "    </tr>\n",
       "    <tr>\n",
       "      <th>16</th>\n",
       "      <td>18.313</td>\n",
       "    </tr>\n",
       "    <tr>\n",
       "      <th>17</th>\n",
       "      <td>18.649</td>\n",
       "    </tr>\n",
       "    <tr>\n",
       "      <th>18</th>\n",
       "      <td>18.839</td>\n",
       "    </tr>\n",
       "    <tr>\n",
       "      <th>19</th>\n",
       "      <td>18.673</td>\n",
       "    </tr>\n",
       "    <tr>\n",
       "      <th>20</th>\n",
       "      <td>19.324</td>\n",
       "    </tr>\n",
       "  </tbody>\n",
       "</table>\n",
       "</div>"
      ],
      "text/plain": [
       "              Every 1 window i.e is 28x28 grids\n",
       "K-Neighbours                                   \n",
       "1                                        17.253\n",
       "2                                        16.443\n",
       "3                                        16.760\n",
       "4                                        17.616\n",
       "5                                        18.094\n",
       "6                                        17.074\n",
       "7                                        16.694\n",
       "8                                        17.132\n",
       "9                                        17.786\n",
       "10                                       18.651\n",
       "11                                       18.398\n",
       "12                                       18.692\n",
       "13                                       18.599\n",
       "14                                       18.729\n",
       "15                                       18.569\n",
       "16                                       18.313\n",
       "17                                       18.649\n",
       "18                                       18.839\n",
       "19                                       18.673\n",
       "20                                       19.324"
      ]
     },
     "execution_count": 39,
     "metadata": {},
     "output_type": "execute_result"
    }
   ],
   "source": [
    "neighbours=[1,2,3,4,5,6,7,8,9,10,11,12,13,14,15,16,17,18,19,20]\n",
    "downsize_5.index=neighbours\n",
    "col=['Every 1 window i.e is 28x28 grids']\n",
    "downsize_5.index.name='K-Neighbours'\n",
    "downsize_5.columns=col\n",
    "downsize_5"
   ]
  },
  {
   "cell_type": "code",
   "execution_count": 43,
   "metadata": {},
   "outputs": [
    {
     "data": {
      "image/png": "[encoded data removed]",
      "text/plain": [
       "<Figure size 720x360 with 1 Axes>"
      ]
     },
     "metadata": {
      "needs_background": "light"
     },
     "output_type": "display_data"
    }
   ],
   "source": [
    "fig,ax = plt.subplots(figsize=(10,5))\n",
    "plt.subplots_adjust(hspace=1.5)\n",
    "\n",
    "ax.set(xlabel='K-Neighbours',ylabel=label,title=col[0])\n",
    "ax.plot(downsize_5.index, downsize_5)\n",
    "plt.tight_layout()\n",
    "plt.show()"
   ]
  },
  {
   "cell_type": "code",
   "execution_count": 44,
   "metadata": {},
   "outputs": [
    {
     "name": "stdout",
     "output_type": "stream",
     "text": [
      "The K-neighbour\n",
      " Every 1 window i.e is 28x28 grids    2\n",
      "dtype: int64 \n",
      " The corresponding MSE\n",
      " Every 1 window i.e is 28x28 grids    16.443\n",
      "dtype: float64\n"
     ]
    }
   ],
   "source": [
    "# Analysing each column in window dataframe and Picking the smallest mean squared error and corresponding k value.\n",
    "min_mse_values_5=downsize_5.min()\n",
    "min_corresponding_k_5=downsize_5.idxmin()\n",
    "print('The K-neighbour\\n',downsize_5.idxmin(),'\\n The corresponding MSE\\n',downsize_5.min())"
   ]
  },
  {
   "cell_type": "code",
   "execution_count": 45,
   "metadata": {},
   "outputs": [
    {
     "name": "stdout",
     "output_type": "stream",
     "text": [
      "[15.33]\n",
      "[0.0004864000002271496]\n",
      "[0.009836599999744067]\n"
     ]
    }
   ],
   "source": [
    "# Since for all Pixel downsample we have k=1 as the best parameter.\n",
    "mean_abs_errors_5=[]\n",
    "pred_5=[]\n",
    "train_time_5=[]\n",
    "test_time_5=[]\n",
    "\n",
    "\n",
    "for c,n in zip(min_corresponding_k_5,[1]):\n",
    "    x_t_5=mini_mean_bin(x_t5,n,n)\n",
    "    x_5_ =mini_mean_bin(x_5,n,n)\n",
    "    classifier = KNeighborsClassifier(n_neighbors = c)\n",
    "    start =timer()\n",
    "    classifier.fit(x_5_, y_5)\n",
    "    train_time_5.append(timer()-start)\n",
    "    start=timer()\n",
    "    pred_5=classifier.predict(x_t_5)\n",
    "    test_time_5.append(timer()-start)\n",
    "    mean_abs_errors_5.append(mean_squared_error(y_t5,pred_5))\n",
    "print(mean_abs_errors_5)\n",
    "print(train_time_5)\n",
    "print(test_time_5)"
   ]
  },
  {
   "cell_type": "code",
   "execution_count": 46,
   "metadata": {},
   "outputs": [
    {
     "data": {
      "text/html": [
       "<div>\n",
       "<style scoped>\n",
       "    .dataframe tbody tr th:only-of-type {\n",
       "        vertical-align: middle;\n",
       "    }\n",
       "\n",
       "    .dataframe tbody tr th {\n",
       "        vertical-align: top;\n",
       "    }\n",
       "\n",
       "    .dataframe thead th {\n",
       "        text-align: right;\n",
       "    }\n",
       "</style>\n",
       "<table border=\"1\" class=\"dataframe\">\n",
       "  <thead>\n",
       "    <tr style=\"text-align: right;\">\n",
       "      <th></th>\n",
       "      <th>Downsampled_Values</th>\n",
       "      <th>Mean_squared_error</th>\n",
       "      <th>Training_time</th>\n",
       "      <th>Testing_time</th>\n",
       "    </tr>\n",
       "  </thead>\n",
       "  <tbody>\n",
       "    <tr>\n",
       "      <th>0</th>\n",
       "      <td>1x1</td>\n",
       "      <td>15.33</td>\n",
       "      <td>0.000486</td>\n",
       "      <td>0.009837</td>\n",
       "    </tr>\n",
       "  </tbody>\n",
       "</table>\n",
       "</div>"
      ],
      "text/plain": [
       "  Downsampled_Values  Mean_squared_error  Training_time  Testing_time\n",
       "0                1x1               15.33       0.000486      0.009837"
      ]
     },
     "execution_count": 46,
     "metadata": {},
     "output_type": "execute_result"
    }
   ],
   "source": [
    "dict_5 = {'Downsampled_Values':['1x1'] , 'Mean_squared_error': mean_abs_errors_5, 'Training_time': train_time_5, \n",
    "        'Testing_time': test_time_5}\n",
    "test_results_window_1=pd.DataFrame(dict_5)\n",
    "test_results_window_1"
   ]
  },
  {
   "cell_type": "markdown",
   "metadata": {},
   "source": [
    "vi) (30 pts) Do a little research of your own and develop a feature transformation method that you then use with the KNN leave-one-out experiment. Describe your method in detail, using equations and figures as necessary. Someone should be able to reproduce your results with your description. Comment on the testing results and the query time of the classifier."
   ]
  },
  {
   "cell_type": "markdown",
   "metadata": {},
   "source": [
    "## Feature Transformation :-\n",
    "\n",
    "### IEEE Reference :-\n",
    "\n",
    "1. Handwritten Bangla digit recognition using Sparse Representation Classifier - Haider Adnan Khan ; Abdullah Al Helal ; Khawza I Ahmed\n",
    "\n",
    "\n",
    "\n",
    "2. Detect & Correct Skew In Images Using Python - Written by Chillar Anand"
   ]
  },
  {
   "cell_type": "markdown",
   "metadata": {},
   "source": [
    "To perform feature transformation data preprocessing also needs to be performed to improve the performance of the classifier model.\n",
    "<br>\n",
    "In this part step by step process performed for preprocessing are shown below for a single image data."
   ]
  },
  {
   "cell_type": "markdown",
   "metadata": {},
   "source": [
    "1.**Binarization**: In order to convert the gray scale data into a binary data, the document data is thresholded. \n",
    "<br>Global thresholding has been used where only one threshold value for the entire image is picked.(128 in this case)"
   ]
  },
  {
   "cell_type": "code",
   "execution_count": 70,
   "metadata": {
    "scrolled": true
   },
   "outputs": [
    {
     "data": {
      "text/plain": [
       "<matplotlib.image.AxesImage at 0x1f5b989ba20>"
      ]
     },
     "execution_count": 70,
     "metadata": {},
     "output_type": "execute_result"
    },
    {
     "data": {
      "image/png": "[encoded data removed]",
      "text/plain": [
       "<Figure size 432x288 with 1 Axes>"
      ]
     },
     "metadata": {
      "needs_background": "light"
     },
     "output_type": "display_data"
    }
   ],
   "source": [
    "z=x_train[0]\n",
    "z = (z>128)*255 #threshold 128\n",
    "plt.imshow(z.reshape(28,28)) "
   ]
  },
  {
   "cell_type": "markdown",
   "metadata": {},
   "source": [
    "2.**Noise reduction**: Noise reduction improves the quality of the image.<br> Gaussian filter from scipy.ndimage package is used to achieve the noise reduction which will blur edges and reduce contrast. "
   ]
  },
  {
   "cell_type": "code",
   "execution_count": 71,
   "metadata": {
    "scrolled": true
   },
   "outputs": [
    {
     "data": {
      "text/plain": [
       "<matplotlib.image.AxesImage at 0x1f5b91e8908>"
      ]
     },
     "execution_count": 71,
     "metadata": {},
     "output_type": "execute_result"
    },
    {
     "data": {
      "image/png": "[encoded data removed]",
      "text/plain": [
       "<Figure size 432x288 with 1 Axes>"
      ]
     },
     "metadata": {
      "needs_background": "light"
     },
     "output_type": "display_data"
    }
   ],
   "source": [
    "z=gaussian_filter(z,sigma=1)\n",
    "plt.imshow(z.reshape(28,28))"
   ]
  },
  {
   "cell_type": "markdown",
   "metadata": {},
   "source": [
    "3.**Normalization**: Normalizing inter-user and intra-user variability due to character size or choice of font family such as boldface is always a good idea. Common normalization steps include stroke width normalization or thinning, and normalization of aspect ratio and size of the Image. To normalize and improve the strokes MinmaxScaler is used.\n"
   ]
  },
  {
   "cell_type": "code",
   "execution_count": 72,
   "metadata": {},
   "outputs": [
    {
     "data": {
      "text/plain": [
       "<matplotlib.image.AxesImage at 0x1f5b7f0fcf8>"
      ]
     },
     "execution_count": 72,
     "metadata": {},
     "output_type": "execute_result"
    },
    {
     "data": {
      "image/png": "[encoded data removed]",
      "text/plain": [
       "<Figure size 432x288 with 1 Axes>"
      ]
     },
     "metadata": {
      "needs_background": "light"
     },
     "output_type": "display_data"
    }
   ],
   "source": [
    "minm = MinMaxScaler()\n",
    "z=minm.fit_transform(z.reshape(28,28))\n",
    "plt.imshow(z)"
   ]
  },
  {
   "cell_type": "markdown",
   "metadata": {},
   "source": [
    "4.**Skew correction**: Skew correction methods are employed in order to align the image document.To perform this a code snippet from the mentioned reference has been used."
   ]
  },
  {
   "cell_type": "code",
   "execution_count": 74,
   "metadata": {},
   "outputs": [],
   "source": [
    "def find_score(arr, angle):\n",
    "    data = inter.rotate(arr, angle, reshape=False, order=0)\n",
    "    hist = np.sum(data, axis=1)\n",
    "    score = np.sum((hist[1:] - hist[:-1]) ** 2)\n",
    "    return hist, score"
   ]
  },
  {
   "cell_type": "code",
   "execution_count": 75,
   "metadata": {},
   "outputs": [
    {
     "name": "stdout",
     "output_type": "stream",
     "text": [
      "Best angle: -5\n"
     ]
    },
    {
     "data": {
      "text/plain": [
       "<matplotlib.image.AxesImage at 0x1f5b7685dd8>"
      ]
     },
     "execution_count": 75,
     "metadata": {},
     "output_type": "execute_result"
    },
    {
     "data": {
      "image/png": "[encoded data removed]",
      "text/plain": [
       "<Figure size 432x288 with 1 Axes>"
      ]
     },
     "metadata": {
      "needs_background": "light"
     },
     "output_type": "display_data"
    }
   ],
   "source": [
    "delta = 1\n",
    "limit = 5\n",
    "angles = np.arange(-limit, limit+delta, delta)\n",
    "scores = []\n",
    "for angle in angles:\n",
    "    hist, score = find_score(z, angle)\n",
    "    scores.append(score)\n",
    "\n",
    "best_score = max(scores)\n",
    "best_angle = angles[scores.index(best_score)]\n",
    "print('Best angle: {}'.format(best_angle))\n",
    "z = inter.rotate(z, best_angle, reshape=False, order=0)\n",
    "plt.imshow(z)"
   ]
  },
  {
   "cell_type": "markdown",
   "metadata": {},
   "source": [
    "After Preprocessing the image looks more sharper and clearer with well defined strokes. Next, Applying the PCA dimensional reduction algorithm using the package sklearn.decomposition.\n",
    "\n",
    "Principal components allows for a large set of variables to be summarized with a smaller number of representative variables that explain most of the variability in the original data\n",
    "\n",
    "Given a set of p old variables.We can create a set of p new variables, where the new variables are linear combinations of the old. The new variables are ordered by importance and are independent of one another.\n",
    "\n",
    "So, we can select the best k<p new variables to maintain the most valuable parts of all of the variables.\n",
    "\n",
    "To find the best n_components the PCA package provides a method to calculate the fraction of variance. Looking at the graph we can confirm a value of k variables/dimensions that we want to generate or are necessary to describe our data/vector.\n",
    "\n",
    "The selection process for k is shown in one of the cells below and mentioned in bold."
   ]
  },
  {
   "cell_type": "markdown",
   "metadata": {},
   "source": [
    "### Algorithm inside PCA:\n",
    "\n",
    "Take the whole dataset consisting of d+1 dimensions and ignore the labels such that our new dataset becomes d dimensional.\n",
    "\n",
    "\n",
    "Compute the mean of every dimension of the whole dataset.\n",
    "\n",
    "\n",
    "Compute the covariance matrix of the whole dataset ( sometimes also called as the variance-covariance matrix)\n",
    "\n",
    "\n",
    "Compute Eigenvectors and corresponding Eigenvalues\n",
    "\n",
    "\n",
    "Sort the eigenvectors by decreasing eigenvalues and choose k eigenvectors with the largest eigenvalues to form a d × k dimensional matrix W.\n",
    "\n",
    "\n",
    "Transform the samples onto the new subspace"
   ]
  },
  {
   "cell_type": "markdown",
   "metadata": {},
   "source": [
    "## The transformer function below performs all the preprocessing steps which were shown earlier and returns an array."
   ]
  },
  {
   "cell_type": "code",
   "execution_count": 47,
   "metadata": {},
   "outputs": [],
   "source": [
    "def transformer(x_tra):\n",
    "    z=[]\n",
    "    for a in x_tra:\n",
    "        p = (a>128)*255\n",
    "        p = gaussian_filter(p,sigma=1)\n",
    "        minm = MinMaxScaler()\n",
    "        p = minm.fit_transform(p.reshape(28,28))\n",
    "        delta = 1\n",
    "        limit = 5\n",
    "        angles = np.arange(-limit, limit+delta, delta)\n",
    "        scores = []\n",
    "        for angle in angles:\n",
    "            hist, score = find_score(p, angle)\n",
    "            scores.append(score)\n",
    "\n",
    "        best_score = max(scores)\n",
    "        best_angle = angles[scores.index(best_score)]\n",
    "        #print('Best angle: {}'.format(best_angle))\n",
    "        p = inter.rotate(p, best_angle, reshape=False, order=0)\n",
    "        z.append(p)\n",
    "    return np.asarray(z)"
   ]
  },
  {
   "cell_type": "code",
   "execution_count": 49,
   "metadata": {},
   "outputs": [],
   "source": [
    "indices_6=np.random.choice(x_train.shape[0],1000,replace=False)\n",
    "X_6 = transformer(x_train[indices_6])\n",
    "u_train= y_train[indices_6]\n",
    "indices_t6=np.random.choice(x_test.shape[0],1000,replace=False)\n",
    "X_t_6 = transformer(x_test[indices_t6])\n",
    "u_test= y_test[indices_t6]"
   ]
  },
  {
   "cell_type": "code",
   "execution_count": 51,
   "metadata": {},
   "outputs": [
    {
     "data": {
      "text/plain": [
       "array([[ 2.57286745e+00, -3.73520920e+00,  7.14846716e-01, ...,\n",
       "        -3.18175039e-15, -2.18189824e-16, -5.52713350e-17],\n",
       "       [ 2.69957143e-01, -3.07025080e+00, -1.62248424e+00, ...,\n",
       "         6.57918402e-17,  2.12598348e-16,  7.10412819e-16],\n",
       "       [-1.87710082e+00,  6.27746073e-01, -4.43633597e-02, ...,\n",
       "        -4.58199972e-17, -2.54070431e-16, -8.25963003e-18],\n",
       "       ...,\n",
       "       [-1.93774796e+00, -3.60493817e-01,  1.77539938e+00, ...,\n",
       "        -2.71222366e-17,  1.84340177e-16,  1.47948730e-17],\n",
       "       [-3.20317225e+00, -4.32973694e-01,  1.64682655e+00, ...,\n",
       "        -5.32661887e-17, -3.71597854e-17,  4.34795035e-16],\n",
       "       [ 2.28862077e+00, -1.92368136e+00,  2.81569836e+00, ...,\n",
       "         1.42358266e-17,  2.40595857e-16, -1.79243117e-16]])"
      ]
     },
     "execution_count": 51,
     "metadata": {},
     "output_type": "execute_result"
    }
   ],
   "source": [
    "sdf = pd.DataFrame(X_6.reshape(1000,784))\n",
    "pca = PCA()\n",
    "sdf = pca.fit(sdf).transform(sdf)\n",
    "sdf"
   ]
  },
  {
   "cell_type": "code",
   "execution_count": 52,
   "metadata": {},
   "outputs": [
    {
     "data": {
      "image/png": "[encoded data removed]",
      "text/plain": [
       "<Figure size 720x720 with 1 Axes>"
      ]
     },
     "metadata": {
      "needs_background": "light"
     },
     "output_type": "display_data"
    }
   ],
   "source": [
    "varianceratio = pca.explained_variance_ratio_\n",
    "fig,ax = plt.subplots(figsize=(10,10))\n",
    "ax.plot(np.arange(len(varianceratio)),varianceratio)\n",
    "ax.set_title('Fraction of Variance explained')\n",
    "ax.set_xlabel('number of components')\n",
    "ax.set_ylabel('cumulative explained variance');\n",
    "ax.grid()"
   ]
  },
  {
   "cell_type": "code",
   "execution_count": 53,
   "metadata": {},
   "outputs": [
    {
     "data": {
      "text/plain": [
       "array([[ 2.57286745, -3.7352092 ,  0.71484672, ..., -0.33728453,\n",
       "        -0.04881565, -0.33311034],\n",
       "       [ 0.26995714, -3.0702508 , -1.62248424, ...,  0.35781863,\n",
       "        -0.15797426, -0.25691035],\n",
       "       [-1.87710082,  0.62774607, -0.04436336, ..., -0.07026497,\n",
       "         0.25809671, -0.00786646],\n",
       "       ...,\n",
       "       [-1.93774796, -0.36049382,  1.77539938, ..., -0.15031148,\n",
       "        -0.20962213,  0.59855463],\n",
       "       [-3.20317225, -0.43297369,  1.64682655, ..., -0.38674188,\n",
       "        -0.15658258,  0.33116325],\n",
       "       [ 2.28862077, -1.92368136,  2.81569836, ...,  0.11570476,\n",
       "         0.23487014,  0.33980679]])"
      ]
     },
     "execution_count": 53,
     "metadata": {},
     "output_type": "execute_result"
    }
   ],
   "source": [
    "sdf = pd.DataFrame(X_6.reshape(1000,784))\n",
    "pca = PCA(n_components=80)\n",
    "sdf = pca.fit(sdf).transform(sdf)\n",
    "sdf"
   ]
  },
  {
   "cell_type": "code",
   "execution_count": 54,
   "metadata": {},
   "outputs": [
    {
     "name": "stdout",
     "output_type": "stream",
     "text": [
      "[2.026, 2.122, 2.144, 1.921, 2.121, 2.21, 2.253, 2.101, 2.282, 2.416, 2.378, 2.673, 2.641, 2.558, 2.665, 2.805, 2.78, 2.918, 2.934, 2.937]\n"
     ]
    }
   ],
   "source": [
    "error_6={}\n",
    "mean_abs_errors_6=[]\n",
    "for i in range(1,21):\n",
    "    classifier = KNeighborsClassifier(n_neighbors = i)\n",
    "    pred_6=[]\n",
    "    for train_index, test_index in loo.split(sdf):\n",
    "        x_train, x_test = sdf[train_index], sdf[test_index]\n",
    "        y_train, y_test = u_train[train_index], u_train[test_index]\n",
    "        classifier.fit(x_train, y_train)\n",
    "        pred_6.append(classifier.predict(x_test))\n",
    "    mean_abs_errors_6.append(mean_squared_error(u_train,pred_6))\n",
    "print(mean_abs_errors_6)"
   ]
  },
  {
   "cell_type": "code",
   "execution_count": 55,
   "metadata": {},
   "outputs": [
    {
     "data": {
      "image/png": "[encoded data removed]",
      "text/plain": [
       "<Figure size 720x360 with 1 Axes>"
      ]
     },
     "metadata": {
      "needs_background": "light"
     },
     "output_type": "display_data"
    }
   ],
   "source": [
    "k_values=[1,2,3,4,5,6,7,8,9,10,11,12,13,14,15,16,17,18,19,20]\n",
    "plt.figure(figsize=(10,5))\n",
    "plt.xlabel('Number_of_Neighbours(k)')\n",
    "plt.ylabel('Mean_sqaured_error')\n",
    "plt.title('K vs MSE after transformations')\n",
    "plt.xticks(k_values)\n",
    "plt.plot(k_values, mean_abs_errors_6)\n",
    "plt.show()"
   ]
  },
  {
   "cell_type": "code",
   "execution_count": 58,
   "metadata": {
    "scrolled": true
   },
   "outputs": [
    {
     "name": "stdout",
     "output_type": "stream",
     "text": [
      "The K-neighbour\n",
      " 3 \n",
      " The corresponding MSE\n",
      " 1.921\n"
     ]
    }
   ],
   "source": [
    "# Analysing each column in downsize_2 dataframe and Picking the smallest mean squared error and corresponding k value.\n",
    "min_mse_values_6=min(mean_abs_errors_6)\n",
    "min_corresponding_k_6= mean_abs_errors_6.index(min_mse_values_6)\n",
    "print('The K-neighbour\\n',min_corresponding_k_6,'\\n The corresponding MSE\\n',min_mse_values_6)"
   ]
  },
  {
   "cell_type": "code",
   "execution_count": 97,
   "metadata": {
    "scrolled": false
   },
   "outputs": [
    {
     "name": "stdout",
     "output_type": "stream",
     "text": [
      "The confusion Matrix is given by: \n",
      " [[52  0  0  0  0  0  1  1  0  0]\n",
      " [ 0 54  0  0  0  0  0  0  0  0]\n",
      " [ 1  2 36  0  0  0  0  1  0  1]\n",
      " [ 0  0  1 47  0  2  0  1  0  0]\n",
      " [ 0  1  0  0 38  0  0  0  0  8]\n",
      " [ 1  1  1  2  0 35  0  0  1  0]\n",
      " [ 0  1  0  0  0  0 52  0  0  0]\n",
      " [ 0  4  1  0  1  0  0 52  0  1]\n",
      " [ 2  1  1  2  1  5  0  1 31  1]\n",
      " [ 1  0  1  0  3  0  0  2  0 48]]\n",
      "\n",
      "Predicted Labels for Test Images:  [2 1 7 4 3 2 1 4 5 7 3 0 6 2 8 3 6 1 8 3 7 8 6 9 9 3 5 1 7 6 2 1 6 1 9 7 0\n",
      " 5 7 9 1 1 1 4 9 6 0 5 4 8 0 7 0 1 7 4 1 6 4 9 3 7 5 6 4 5 8 7 5 6 7 0 1 3\n",
      " 5 2 2 1 8 5 4 7 8 9 7 3 8 0 7 5 1 9 9 9 0 0 0 9 0 3 6 5 2 9 6 1 7 6 2 3 7\n",
      " 0 4 1 2 3 9 8 1 3 6 0 7 9 2 3 6 9 0 2 1 3 0 0 5 2 5 2 4 8 4 0 0 2 2 2 1 9\n",
      " 8 7 2 4 1 1 1 3 6 7 1 8 0 1 2 0 6 1 8 5 9 3 8 3 6 1 7 3 3 9 3 5 6 1 6 4 1\n",
      " 9 1 3 5 4 6 6 5 2 3 4 7 1 6 1 9 1 6 4 2 6 2 3 6 9 5 4 0 3 9 7 9 7 1 0 0 6\n",
      " 9 0 4 9 4 2 5 8 5 4 7 8 1 3 7 4 2 8 3 6 0 0 9 8 3 0 3 5 7 3 9 1 6 1 2 6 4\n",
      " 2 2 0 9 5 1 1 9 7 1 4 3 1 7 6 4 9 7 3 0 4 1 0 8 7 3 8 6 9 1 2 0 2 6 0 4 1\n",
      " 5 1 6 2 5 3 1 0 6 8 7 9 1 8 0 8 0 1 5 0 3 7 0 3 6 1 4 8 7 0 5 7 9 9 2 1 5\n",
      " 4 8 0 9 5 7 5 5 8 6 7 9 7 1 2 3 1 3 4 7 3 0 3 6 7 0 4 1 3 7 2 6 9 4 7 8 6\n",
      " 1 6 9 1 6 2 1 3 9 6 4 0 8 0 1 7 4 7 9 8 0 3 7 8 7 9 5 4 6 6 1 9 5 2 1 6 5\n",
      " 0 4 4 7 2 3 8 2 4 9 3 7 0 9 4 9 9 5 6 5 3 7 9 1 0 3 0 9 6 1 0 7 0 1 4 0 9\n",
      " 4 5 0 9 7 9 4 3 7 6 5 6 5 9 5 2 4 0 9 0 0 7 9 2 0 7 2 7 3 8 5 7 3 7 0 1 9\n",
      " 9 3 4 1 9 2 9 9 1 5 7 2 7 6 5 3 6 6 6]\n",
      "\n",
      "Accuracy of Classifier on Test Images:  0.89\n"
     ]
    },
    {
     "data": {
      "text/html": [
       "<div>\n",
       "<style scoped>\n",
       "    .dataframe tbody tr th:only-of-type {\n",
       "        vertical-align: middle;\n",
       "    }\n",
       "\n",
       "    .dataframe tbody tr th {\n",
       "        vertical-align: top;\n",
       "    }\n",
       "\n",
       "    .dataframe thead th {\n",
       "        text-align: right;\n",
       "    }\n",
       "</style>\n",
       "<table border=\"1\" class=\"dataframe\">\n",
       "  <thead>\n",
       "    <tr style=\"text-align: right;\">\n",
       "      <th></th>\n",
       "      <th>Error For Digits after Transformation</th>\n",
       "    </tr>\n",
       "  </thead>\n",
       "  <tbody>\n",
       "    <tr>\n",
       "      <th>Error in digit0</th>\n",
       "      <td>3.703704</td>\n",
       "    </tr>\n",
       "    <tr>\n",
       "      <th>Error in digit1</th>\n",
       "      <td>0.000000</td>\n",
       "    </tr>\n",
       "    <tr>\n",
       "      <th>Error in digit2</th>\n",
       "      <td>12.195122</td>\n",
       "    </tr>\n",
       "    <tr>\n",
       "      <th>Error in digit3</th>\n",
       "      <td>7.843137</td>\n",
       "    </tr>\n",
       "    <tr>\n",
       "      <th>Error in digit4</th>\n",
       "      <td>19.148936</td>\n",
       "    </tr>\n",
       "    <tr>\n",
       "      <th>Error in digit5</th>\n",
       "      <td>14.634146</td>\n",
       "    </tr>\n",
       "    <tr>\n",
       "      <th>Error in digit6</th>\n",
       "      <td>1.886792</td>\n",
       "    </tr>\n",
       "    <tr>\n",
       "      <th>Error in digit7</th>\n",
       "      <td>11.864407</td>\n",
       "    </tr>\n",
       "    <tr>\n",
       "      <th>Error in digit8</th>\n",
       "      <td>31.111111</td>\n",
       "    </tr>\n",
       "    <tr>\n",
       "      <th>Error in digit9</th>\n",
       "      <td>12.727273</td>\n",
       "    </tr>\n",
       "  </tbody>\n",
       "</table>\n",
       "</div>"
      ],
      "text/plain": [
       "                 Error For Digits after Transformation\n",
       "Error in digit0                               3.703704\n",
       "Error in digit1                               0.000000\n",
       "Error in digit2                              12.195122\n",
       "Error in digit3                               7.843137\n",
       "Error in digit4                              19.148936\n",
       "Error in digit5                              14.634146\n",
       "Error in digit6                               1.886792\n",
       "Error in digit7                              11.864407\n",
       "Error in digit8                              31.111111\n",
       "Error in digit9                              12.727273"
      ]
     },
     "execution_count": 97,
     "metadata": {},
     "output_type": "execute_result"
    }
   ],
   "source": [
    "x_6a=x_train[indices_1]\n",
    "y_6a=y_train[indices_1]\n",
    "x_t6a=x_test[indices_t1]\n",
    "y_t6a=y_test[indices_t1]\n",
    "x_6a = pd.DataFrame(x_6a)\n",
    "pca = PCA(n_components=80)\n",
    "x_6a = pca.fit(x_6a).transform(x_6a)\n",
    "x_t6a = pca.transform(x_t6a)\n",
    "classifier = KNeighborsClassifier(n_neighbors = 3)\n",
    "y_cls_6a=classifier.fit(x_6a, y_6a)\n",
    "y_pred_6a = classifier.predict(x_t6a)\n",
    "unique_6a, counts_6a = np.unique(y_t6a, return_counts=True)\n",
    "counts_6a=counts_6a.tolist()\n",
    "cm_6a = confusion_matrix(y_t6a,y_pred_6a)\n",
    "a_6a=cm_6a.diagonal()\n",
    "acc_6a = accuracy_score(y_t6a,y_pred_6a)\n",
    "print(\"The confusion Matrix is given by: \\n\",cm_6a)\n",
    "print('\\nPredicted Labels for Test Images: ',y_pred_6a)\n",
    "print('\\nAccuracy of Classifier on Test Images: ',acc_6a)\n",
    "error_6a={}\n",
    "unique_elements_6a, counts_elements_6a = np.unique(y_t6a, return_counts=True)\n",
    "for i in range(0,len(a_6a)):\n",
    "    e=[]\n",
    "    e.append((1-a_6a[i]/counts_6a[i])*100)\n",
    "    error_6a[i]=e\n",
    "column=[]\n",
    "for i in range(0,10):\n",
    "    column.append('Error in digit'+str(i))    \n",
    "error_6a=pd.DataFrame(error_6a)\n",
    "error_6a.columns=column\n",
    "error_6a=error_6a.T\n",
    "error_6a.columns=['Error For Digits after Transformation']\n",
    "error_6a"
   ]
  },
  {
   "cell_type": "markdown",
   "metadata": {},
   "source": [
    "**Conclusion**: Comparing the results obtained before the transformation i.e after 1 and 2nd question we can see the below points:-\n",
    "\n",
    "1. The Accuracy score of the classifier in the first part of the project is 87% and whereas after the feature transformation applied the accuracy of the classifier is 89%.\n",
    "\n",
    "2. The mean squared error has also been marginally improved and for digit 6 we observe there is a lot of difference\n",
    "\n",
    "\n",
    "**MSE before transformation for digit 6 :- 3.8\n",
    "MSE after transformation for digit  6: - 1.8\n",
    "It is almost more than 50% reduction in the mean squared error** "
   ]
  }
 ],
 "metadata": {
  "kernelspec": {
   "display_name": "Python 3",
   "language": "python",
   "name": "python3"
  },
  "language_info": {
   "codemirror_mode": {
    "name": "ipython",
    "version": 3
   },
   "file_extension": ".py",
   "mimetype": "text/x-python",
   "name": "python",
   "nbconvert_exporter": "python",
   "pygments_lexer": "ipython3",
   "version": "3.7.3"
  }
 },
 "nbformat": 4,
 "nbformat_minor": 2
}
